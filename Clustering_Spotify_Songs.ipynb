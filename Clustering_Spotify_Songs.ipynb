{
 "cells": [
  {
   "cell_type": "code",
   "execution_count": 3,
   "metadata": {},
   "outputs": [
    {
     "data": {
      "image/png": "[encoded data removed]",
      "text/plain": [
       "<Figure size 288x72 with 1 Axes>"
      ]
     },
     "metadata": {},
     "output_type": "display_data"
    }
   ],
   "source": [
    "# To support both python 2 and python 3\n",
    "from __future__ import division, print_function, unicode_literals\n",
    "\n",
    "import numpy as np\n",
    "import os\n",
    "import pandas as pd\n",
    "# To make this notebook's output stable across runs\n",
    "np.random.seed(42)\n",
    "\n",
    "# To plot pretty figures\n",
    "%matplotlib inline\n",
    "import matplotlib as mpl\n",
    "import matplotlib.pyplot as plt\n",
    "mpl.rc('axes', labelsize=14)\n",
    "mpl.rc('xtick', labelsize=12)\n",
    "mpl.rc('ytick', labelsize=12)\n",
    "\n",
    "import seaborn as sns\n",
    "#set style of plots\n",
    "sns.set_style('white')\n",
    "\n",
    "#define a custom palette\n",
    "customPalette = ['#630C3A', '#39C8C6', '#D3500C', '#FFB139']\n",
    "sns.set_palette(customPalette)\n",
    "sns.palplot(customPalette)\n",
    "\n",
    "\n",
    "# Ignore useless warnings (see SciPy issue #5998)\n",
    "import warnings\n",
    "warnings.filterwarnings(action=\"ignore\", message=\"^internal gelsd\")"
   ]
  },
  {
   "cell_type": "code",
   "execution_count": 4,
   "metadata": {},
   "outputs": [
    {
     "name": "stdout",
     "output_type": "stream",
     "text": [
      "<class 'pandas.core.frame.DataFrame'>\n",
      "RangeIndex: 18 entries, 0 to 17\n",
      "Data columns (total 11 columns):\n",
      " #   Column        Non-Null Count  Dtype  \n",
      "---  ------        --------------  -----  \n",
      " 0   name          18 non-null     object \n",
      " 1   artist        18 non-null     object \n",
      " 2   id            18 non-null     object \n",
      " 3   danceability  18 non-null     float64\n",
      " 4   energy        18 non-null     float64\n",
      " 5   loudness      18 non-null     float64\n",
      " 6   speechiness   18 non-null     float64\n",
      " 7   acousticness  18 non-null     float64\n",
      " 8   tempo         18 non-null     float64\n",
      " 9   liveness      18 non-null     float64\n",
      " 10  valence       18 non-null     float64\n",
      "dtypes: float64(8), object(3)\n",
      "memory usage: 1.7+ KB\n"
     ]
    }
   ],
   "source": [
    "# Import my spotify data\n",
    "songs = pd.read_csv(\"mySongsDataset.csv\")\n",
    "\n",
    "songs.info()"
   ]
  },
  {
   "cell_type": "code",
   "execution_count": 5,
   "metadata": {},
   "outputs": [
    {
     "data": {
      "text/html": [
       "<div>\n",
       "<style scoped>\n",
       "    .dataframe tbody tr th:only-of-type {\n",
       "        vertical-align: middle;\n",
       "    }\n",
       "\n",
       "    .dataframe tbody tr th {\n",
       "        vertical-align: top;\n",
       "    }\n",
       "\n",
       "    .dataframe thead th {\n",
       "        text-align: right;\n",
       "    }\n",
       "</style>\n",
       "<table border=\"1\" class=\"dataframe\">\n",
       "  <thead>\n",
       "    <tr style=\"text-align: right;\">\n",
       "      <th></th>\n",
       "      <th>name</th>\n",
       "      <th>artist</th>\n",
       "      <th>id</th>\n",
       "      <th>danceability</th>\n",
       "      <th>loudness</th>\n",
       "      <th>speechiness</th>\n",
       "      <th>acousticness</th>\n",
       "      <th>liveness</th>\n",
       "    </tr>\n",
       "  </thead>\n",
       "  <tbody>\n",
       "    <tr>\n",
       "      <th>0</th>\n",
       "      <td>もしもまたいつか (Moshimo Mata Itsuka) Feat. Ariel NIDJI</td>\n",
       "      <td>Ariel NOAH</td>\n",
       "      <td>3OVQ4OkklQ0LpIfd7Bl0jI</td>\n",
       "      <td>0.742</td>\n",
       "      <td>-11.917</td>\n",
       "      <td>0.0302</td>\n",
       "      <td>0.6290</td>\n",
       "      <td>0.1520</td>\n",
       "    </tr>\n",
       "    <tr>\n",
       "      <th>1</th>\n",
       "      <td>Wait Another Day</td>\n",
       "      <td>Mike Williams</td>\n",
       "      <td>7qZOnik9K8Mv987ccBjwwj</td>\n",
       "      <td>0.727</td>\n",
       "      <td>-3.594</td>\n",
       "      <td>0.0377</td>\n",
       "      <td>0.0272</td>\n",
       "      <td>0.1180</td>\n",
       "    </tr>\n",
       "    <tr>\n",
       "      <th>2</th>\n",
       "      <td>Make You Mine (feat. Moa Lisa)</td>\n",
       "      <td>Mike Williams</td>\n",
       "      <td>1ICPREUY4yMNeFEgbNh7D5</td>\n",
       "      <td>0.720</td>\n",
       "      <td>-4.975</td>\n",
       "      <td>0.0569</td>\n",
       "      <td>0.0171</td>\n",
       "      <td>0.2150</td>\n",
       "    </tr>\n",
       "    <tr>\n",
       "      <th>3</th>\n",
       "      <td>Wait For You (feat. Maia Wright)</td>\n",
       "      <td>Mike Williams</td>\n",
       "      <td>0OpfRbSog1yotyMpFVX6K9</td>\n",
       "      <td>0.517</td>\n",
       "      <td>-4.075</td>\n",
       "      <td>0.0398</td>\n",
       "      <td>0.2240</td>\n",
       "      <td>0.0921</td>\n",
       "    </tr>\n",
       "    <tr>\n",
       "      <th>4</th>\n",
       "      <td>I Got You</td>\n",
       "      <td>Mike Williams</td>\n",
       "      <td>4QE7rcOeNErdz87pgSZ823</td>\n",
       "      <td>0.597</td>\n",
       "      <td>-3.865</td>\n",
       "      <td>0.0782</td>\n",
       "      <td>0.1140</td>\n",
       "      <td>0.7000</td>\n",
       "    </tr>\n",
       "  </tbody>\n",
       "</table>\n",
       "</div>"
      ],
      "text/plain": [
       "                                               name         artist  \\\n",
       "0  もしもまたいつか (Moshimo Mata Itsuka) Feat. Ariel NIDJI     Ariel NOAH   \n",
       "1                                  Wait Another Day  Mike Williams   \n",
       "2                    Make You Mine (feat. Moa Lisa)  Mike Williams   \n",
       "3                  Wait For You (feat. Maia Wright)  Mike Williams   \n",
       "4                                         I Got You  Mike Williams   \n",
       "\n",
       "                       id  danceability  loudness  speechiness  acousticness  \\\n",
       "0  3OVQ4OkklQ0LpIfd7Bl0jI         0.742   -11.917       0.0302        0.6290   \n",
       "1  7qZOnik9K8Mv987ccBjwwj         0.727    -3.594       0.0377        0.0272   \n",
       "2  1ICPREUY4yMNeFEgbNh7D5         0.720    -4.975       0.0569        0.0171   \n",
       "3  0OpfRbSog1yotyMpFVX6K9         0.517    -4.075       0.0398        0.2240   \n",
       "4  4QE7rcOeNErdz87pgSZ823         0.597    -3.865       0.0782        0.1140   \n",
       "\n",
       "   liveness  \n",
       "0    0.1520  \n",
       "1    0.1180  \n",
       "2    0.2150  \n",
       "3    0.0921  \n",
       "4    0.7000  "
      ]
     },
     "execution_count": 5,
     "metadata": {},
     "output_type": "execute_result"
    }
   ],
   "source": [
    "\n",
    "songs = songs.drop(['energy','valence','tempo'],axis=1)\n",
    "songs.head()"
   ]
  },
  {
   "cell_type": "code",
   "execution_count": 6,
   "metadata": {},
   "outputs": [
    {
     "data": {
      "text/html": [
       "<div>\n",
       "<style scoped>\n",
       "    .dataframe tbody tr th:only-of-type {\n",
       "        vertical-align: middle;\n",
       "    }\n",
       "\n",
       "    .dataframe tbody tr th {\n",
       "        vertical-align: top;\n",
       "    }\n",
       "\n",
       "    .dataframe thead th {\n",
       "        text-align: right;\n",
       "    }\n",
       "</style>\n",
       "<table border=\"1\" class=\"dataframe\">\n",
       "  <thead>\n",
       "    <tr style=\"text-align: right;\">\n",
       "      <th></th>\n",
       "      <th>danceability</th>\n",
       "      <th>loudness</th>\n",
       "      <th>speechiness</th>\n",
       "      <th>acousticness</th>\n",
       "      <th>liveness</th>\n",
       "    </tr>\n",
       "  </thead>\n",
       "  <tbody>\n",
       "    <tr>\n",
       "      <th>count</th>\n",
       "      <td>18.000000</td>\n",
       "      <td>18.000000</td>\n",
       "      <td>18.000000</td>\n",
       "      <td>18.000000</td>\n",
       "      <td>18.000000</td>\n",
       "    </tr>\n",
       "    <tr>\n",
       "      <th>mean</th>\n",
       "      <td>0.624389</td>\n",
       "      <td>-6.632500</td>\n",
       "      <td>0.047322</td>\n",
       "      <td>0.289544</td>\n",
       "      <td>0.255500</td>\n",
       "    </tr>\n",
       "    <tr>\n",
       "      <th>std</th>\n",
       "      <td>0.158468</td>\n",
       "      <td>3.734687</td>\n",
       "      <td>0.024889</td>\n",
       "      <td>0.322921</td>\n",
       "      <td>0.200863</td>\n",
       "    </tr>\n",
       "    <tr>\n",
       "      <th>min</th>\n",
       "      <td>0.314000</td>\n",
       "      <td>-14.940000</td>\n",
       "      <td>0.030200</td>\n",
       "      <td>0.002190</td>\n",
       "      <td>0.067800</td>\n",
       "    </tr>\n",
       "    <tr>\n",
       "      <th>25%</th>\n",
       "      <td>0.532750</td>\n",
       "      <td>-8.305000</td>\n",
       "      <td>0.034525</td>\n",
       "      <td>0.040250</td>\n",
       "      <td>0.125750</td>\n",
       "    </tr>\n",
       "    <tr>\n",
       "      <th>50%</th>\n",
       "      <td>0.673000</td>\n",
       "      <td>-5.036500</td>\n",
       "      <td>0.039650</td>\n",
       "      <td>0.112500</td>\n",
       "      <td>0.179000</td>\n",
       "    </tr>\n",
       "    <tr>\n",
       "      <th>75%</th>\n",
       "      <td>0.730750</td>\n",
       "      <td>-4.176500</td>\n",
       "      <td>0.046400</td>\n",
       "      <td>0.559500</td>\n",
       "      <td>0.321000</td>\n",
       "    </tr>\n",
       "    <tr>\n",
       "      <th>max</th>\n",
       "      <td>0.859000</td>\n",
       "      <td>-1.928000</td>\n",
       "      <td>0.135000</td>\n",
       "      <td>0.937000</td>\n",
       "      <td>0.700000</td>\n",
       "    </tr>\n",
       "  </tbody>\n",
       "</table>\n",
       "</div>"
      ],
      "text/plain": [
       "       danceability   loudness  speechiness  acousticness   liveness\n",
       "count     18.000000  18.000000    18.000000     18.000000  18.000000\n",
       "mean       0.624389  -6.632500     0.047322      0.289544   0.255500\n",
       "std        0.158468   3.734687     0.024889      0.322921   0.200863\n",
       "min        0.314000 -14.940000     0.030200      0.002190   0.067800\n",
       "25%        0.532750  -8.305000     0.034525      0.040250   0.125750\n",
       "50%        0.673000  -5.036500     0.039650      0.112500   0.179000\n",
       "75%        0.730750  -4.176500     0.046400      0.559500   0.321000\n",
       "max        0.859000  -1.928000     0.135000      0.937000   0.700000"
      ]
     },
     "execution_count": 6,
     "metadata": {},
     "output_type": "execute_result"
    }
   ],
   "source": [
    "# to describe numerical features we can use describe()\n",
    "songs.describe()"
   ]
  },
  {
   "cell_type": "code",
   "execution_count": 45,
   "metadata": {},
   "outputs": [
    {
     "data": {
      "text/plain": [
       "array([[<matplotlib.axes._subplots.AxesSubplot object at 0x000001F0F68DE988>,\n",
       "        <matplotlib.axes._subplots.AxesSubplot object at 0x000001F0F6829088>],\n",
       "       [<matplotlib.axes._subplots.AxesSubplot object at 0x000001F0F6933D08>,\n",
       "        <matplotlib.axes._subplots.AxesSubplot object at 0x000001F0F696C888>],\n",
       "       [<matplotlib.axes._subplots.AxesSubplot object at 0x000001F0F69A2608>,\n",
       "        <matplotlib.axes._subplots.AxesSubplot object at 0x000001F0F69DA048>]],\n",
       "      dtype=object)"
      ]
     },
     "execution_count": 45,
     "metadata": {},
     "output_type": "execute_result"
    },
    {
     "data": {
      "image/png": "[encoded data removed]",
      "text/plain": [
       "<Figure size 1440x1080 with 6 Axes>"
      ]
     },
     "metadata": {},
     "output_type": "display_data"
    }
   ],
   "source": [
    "# Loudness feature is from -60db to 0 so we will normalise this column between 0 and 1\n",
    "# Tempo feature is in BPM so we will scale between 0 and 1 too\n",
    "from sklearn import preprocessing\n",
    "\n",
    "loudness = songs[['loudness']].values\n",
    "min_max_scaler = preprocessing.MinMaxScaler()\n",
    "loudness_scaled = min_max_scaler.fit_transform(loudness)\n",
    "songs['loudness'] = pd.DataFrame(loudness_scaled)\n",
    "\n",
    "\n",
    "\n",
    "\n",
    "songs.hist(bins=50,figsize=(20,15))"
   ]
  },
  {
   "cell_type": "markdown",
   "metadata": {},
   "source": [
    "Most features are skewed to the left or the right\n"
   ]
  },
  {
   "cell_type": "code",
   "execution_count": 46,
   "metadata": {},
   "outputs": [],
   "source": [
    "# from pandas.plotting import scatter_matrix\n",
    "# # attributes should contain the features we want to compare\n",
    "# attr = ['danceability','energy','loudness','speechiness','acousticness','tempo','liveness','valence']\n",
    "\n",
    "# scatter_matrix(songs[attr],figsize=(12,8))"
   ]
  },
  {
   "cell_type": "code",
   "execution_count": 47,
   "metadata": {},
   "outputs": [],
   "source": [
    "# remove song names, artist and id before clustering\n",
    "songs_features = songs.copy()\n",
    "songs_features = songs_features.drop(['name','artist','id'],axis=1)\n",
    "\n"
   ]
  },
  {
   "cell_type": "code",
   "execution_count": 48,
   "metadata": {},
   "outputs": [],
   "source": [
    "from sklearn.cluster import KMeans\n",
    "\n",
    "Sum_of_squared_distances = []\n",
    "K = range(1,15)\n",
    "for k in K:\n",
    "    km = KMeans(n_clusters=k)\n",
    "    km = km.fit(songs_features)\n",
    "    Sum_of_squared_distances.append(km.inertia_)"
   ]
  },
  {
   "cell_type": "code",
   "execution_count": 49,
   "metadata": {},
   "outputs": [
    {
     "name": "stdout",
     "output_type": "stream",
     "text": [
      "For n_clusters = 2, silhouette score is 0.5780788072058197)\n",
      "For n_clusters = 3, silhouette score is 0.6139423559014145)\n",
      "For n_clusters = 4, silhouette score is 0.7071928497995414)\n",
      "For n_clusters = 5, silhouette score is 0.7009235724831613)\n",
      "For n_clusters = 6, silhouette score is 0.6767051357866737)\n",
      "For n_clusters = 7, silhouette score is 0.6190072089800915)\n",
      "For n_clusters = 8, silhouette score is 0.4249046032171623)\n",
      "For n_clusters = 9, silhouette score is 0.46400583028976183)\n",
      "For n_clusters = 10, silhouette score is 0.39753762079077715)\n",
      "For n_clusters = 11, silhouette score is 0.303964845335394)\n",
      "For n_clusters = 12, silhouette score is 0.275843202232157)\n",
      "For n_clusters = 13, silhouette score is 0.19265230837738653)\n",
      "For n_clusters = 14, silhouette score is 0.21374510220692544)\n"
     ]
    }
   ],
   "source": [
    "from sklearn.metrics import silhouette_score\n",
    "for n_clusters in range(2,15):\n",
    "    clusterer = KMeans (n_clusters=n_clusters)\n",
    "    preds = clusterer.fit_predict(songs_features)\n",
    "    centers = clusterer.cluster_centers_\n",
    "\n",
    "    score = silhouette_score (songs_features, preds, metric='euclidean')\n",
    "    print (\"For n_clusters = {}, silhouette score is {})\".format(n_clusters, score))"
   ]
  },
  {
   "cell_type": "code",
   "execution_count": 50,
   "metadata": {},
   "outputs": [
    {
     "data": {
      "image/png": "[encoded data removed]",
      "text/plain": [
       "<Figure size 432x288 with 1 Axes>"
      ]
     },
     "metadata": {},
     "output_type": "display_data"
    }
   ],
   "source": [
    "plt.plot(K, Sum_of_squared_distances, 'gx-')\n",
    "plt.xlabel('k')\n",
    "plt.ylabel('Sum_of_squared_distances')\n",
    "plt.title('Elbow Method For Optimal k')\n",
    "plt.show()"
   ]
  },
  {
   "cell_type": "code",
   "execution_count": 51,
   "metadata": {},
   "outputs": [
    {
     "data": {
      "text/plain": [
       "KMeans(algorithm='auto', copy_x=True, init='k-means++', max_iter=300,\n",
       "       n_clusters=4, n_init=10, n_jobs=None, precompute_distances='auto',\n",
       "       random_state=None, tol=0.0001, verbose=0)"
      ]
     },
     "execution_count": 51,
     "metadata": {},
     "output_type": "execute_result"
    }
   ],
   "source": [
    "kmeans = KMeans(n_clusters=4)\n",
    "kmeans.fit(songs_features)\n"
   ]
  },
  {
   "cell_type": "code",
   "execution_count": 52,
   "metadata": {},
   "outputs": [],
   "source": [
    "# PCA to reduce our data to 2 dimensions for visualisation\n",
    "from sklearn.decomposition import PCA\n",
    "y_kmeans = kmeans.predict(songs_features)\n",
    "pca = PCA(n_components=2)\n",
    "principal_components = pca.fit_transform(songs_features)\n"
   ]
  },
  {
   "cell_type": "code",
   "execution_count": 53,
   "metadata": {},
   "outputs": [
    {
     "data": {
      "image/png": "[encoded data removed]",
      "text/plain": [
       "<Figure size 401.625x360 with 1 Axes>"
      ]
     },
     "metadata": {},
     "output_type": "display_data"
    }
   ],
   "source": [
    "pc = pd.DataFrame(principal_components)\n",
    "pc['label'] = y_kmeans\n",
    "pc.columns = ['x', 'y','label']\n",
    "\n",
    "#plot data with seaborn\n",
    "cluster = sns.lmplot(data=pc, x='x', y='y', hue='label', \n",
    "                   fit_reg=False, legend=True, legend_out=True)\n"
   ]
  },
  {
   "cell_type": "code",
   "execution_count": 54,
   "metadata": {},
   "outputs": [],
   "source": [
    "from sklearn.manifold import TSNE #T-Distributed Stochastic Neighbor Embedding\n",
    "#T-SNE with two dimensions\n",
    "tsne = TSNE(n_components=2, perplexity=50)\n",
    "\n",
    "tsne_components = tsne.fit_transform(songs_features)"
   ]
  },
  {
   "cell_type": "code",
   "execution_count": 55,
   "metadata": {},
   "outputs": [
    {
     "data": {
      "image/png": "[encoded data removed]",
      "text/plain": [
       "<Figure size 401.625x360 with 1 Axes>"
      ]
     },
     "metadata": {},
     "output_type": "display_data"
    }
   ],
   "source": [
    "ts = pd.DataFrame(tsne_components)\n",
    "ts['label'] = y_kmeans\n",
    "ts.columns = ['x', 'y','label']\n",
    "\n",
    "#plot data with seaborn\n",
    "cluster = sns.lmplot(data=ts, x='x', y='y', hue='label', \n",
    "                   fit_reg=False, legend=True, legend_out=True)"
   ]
  },
  {
   "cell_type": "code",
   "execution_count": 56,
   "metadata": {},
   "outputs": [
    {
     "data": {
      "text/plain": [
       "array([0.86845175, 0.06673664])"
      ]
     },
     "execution_count": 56,
     "metadata": {},
     "output_type": "execute_result"
    }
   ],
   "source": [
    "pca.explained_variance_ratio_"
   ]
  },
  {
   "cell_type": "markdown",
   "metadata": {},
   "source": [
    "The explained variance tells you how much information (variance) can be attributed to each of the principal components. By looking at the explained_variance_ratio_ we can see the 1st component contains 87% and the 2nd 5% which implies we've retained 92% of the original variance in the data which is awesome! "
   ]
  },
  {
   "cell_type": "code",
   "execution_count": 57,
   "metadata": {},
   "outputs": [
    {
     "name": "stdout",
     "output_type": "stream",
     "text": [
      "      danceability  loudness  speechiness  acousticness  liveness     label\n",
      "PC-1     -0.062813 -0.100008     0.000624      0.186159  0.075969  0.972433\n",
      "PC-2      0.214004 -0.760691     0.035892     -0.378807  0.479484 -0.029373\n"
     ]
    }
   ],
   "source": [
    "# Dump components relations with features:\n",
    "print (pd.DataFrame(pca.components_,columns=songs_features.columns,index = ['PC-1','PC-2']))\n"
   ]
  },
  {
   "cell_type": "markdown",
   "metadata": {},
   "source": [
    "# Next step lets explore each of the 4 clusters and see what songs they contain"
   ]
  },
  {
   "cell_type": "code",
   "execution_count": 58,
   "metadata": {},
   "outputs": [
    {
     "data": {
      "text/plain": [
       "1    8\n",
       "3    4\n",
       "2    4\n",
       "0    2\n",
       "Name: label, dtype: int64"
      ]
     },
     "execution_count": 58,
     "metadata": {},
     "output_type": "execute_result"
    }
   ],
   "source": [
    "songs['label'] = y_kmeans\n",
    "\n",
    "# shuffle dataset\n",
    "\n",
    "songs = songs.sample(frac=1)\n",
    "songs['label'].value_counts()"
   ]
  },
  {
   "cell_type": "code",
   "execution_count": 59,
   "metadata": {},
   "outputs": [
    {
     "data": {
      "text/html": [
       "<div>\n",
       "<style scoped>\n",
       "    .dataframe tbody tr th:only-of-type {\n",
       "        vertical-align: middle;\n",
       "    }\n",
       "\n",
       "    .dataframe tbody tr th {\n",
       "        vertical-align: top;\n",
       "    }\n",
       "\n",
       "    .dataframe thead th {\n",
       "        text-align: right;\n",
       "    }\n",
       "</style>\n",
       "<table border=\"1\" class=\"dataframe\">\n",
       "  <thead>\n",
       "    <tr style=\"text-align: right;\">\n",
       "      <th></th>\n",
       "      <th>name</th>\n",
       "      <th>artist</th>\n",
       "      <th>id</th>\n",
       "      <th>danceability</th>\n",
       "      <th>loudness</th>\n",
       "      <th>speechiness</th>\n",
       "      <th>acousticness</th>\n",
       "      <th>liveness</th>\n",
       "      <th>label</th>\n",
       "    </tr>\n",
       "  </thead>\n",
       "  <tbody>\n",
       "    <tr>\n",
       "      <th>16</th>\n",
       "      <td>Way Back Home</td>\n",
       "      <td>Funguypiano</td>\n",
       "      <td>2nC7sW1clIqOxZ48DcKrTg</td>\n",
       "      <td>0.317</td>\n",
       "      <td>0.756379</td>\n",
       "      <td>0.0420</td>\n",
       "      <td>0.937</td>\n",
       "      <td>0.188</td>\n",
       "      <td>0</td>\n",
       "    </tr>\n",
       "    <tr>\n",
       "      <th>15</th>\n",
       "      <td>As If It's Your Last</td>\n",
       "      <td>Funguypiano</td>\n",
       "      <td>5JQKHB3Bmjhz1GB0kI91Fu</td>\n",
       "      <td>0.314</td>\n",
       "      <td>0.765832</td>\n",
       "      <td>0.0426</td>\n",
       "      <td>0.874</td>\n",
       "      <td>0.134</td>\n",
       "      <td>0</td>\n",
       "    </tr>\n",
       "  </tbody>\n",
       "</table>\n",
       "</div>"
      ],
      "text/plain": [
       "                    name       artist                      id  danceability  \\\n",
       "16         Way Back Home  Funguypiano  2nC7sW1clIqOxZ48DcKrTg         0.317   \n",
       "15  As If It's Your Last  Funguypiano  5JQKHB3Bmjhz1GB0kI91Fu         0.314   \n",
       "\n",
       "    loudness  speechiness  acousticness  liveness  label  \n",
       "16  0.756379       0.0420         0.937     0.188      0  \n",
       "15  0.765832       0.0426         0.874     0.134      0  "
      ]
     },
     "execution_count": 59,
     "metadata": {},
     "output_type": "execute_result"
    }
   ],
   "source": [
    "songs[songs['label'] == 0].tail(50)"
   ]
  },
  {
   "cell_type": "code",
   "execution_count": 60,
   "metadata": {},
   "outputs": [
    {
     "data": {
      "text/html": [
       "<div>\n",
       "<style scoped>\n",
       "    .dataframe tbody tr th:only-of-type {\n",
       "        vertical-align: middle;\n",
       "    }\n",
       "\n",
       "    .dataframe tbody tr th {\n",
       "        vertical-align: top;\n",
       "    }\n",
       "\n",
       "    .dataframe thead th {\n",
       "        text-align: right;\n",
       "    }\n",
       "</style>\n",
       "<table border=\"1\" class=\"dataframe\">\n",
       "  <thead>\n",
       "    <tr style=\"text-align: right;\">\n",
       "      <th></th>\n",
       "      <th>name</th>\n",
       "      <th>artist</th>\n",
       "      <th>id</th>\n",
       "      <th>danceability</th>\n",
       "      <th>loudness</th>\n",
       "      <th>speechiness</th>\n",
       "      <th>acousticness</th>\n",
       "      <th>liveness</th>\n",
       "      <th>label</th>\n",
       "    </tr>\n",
       "  </thead>\n",
       "  <tbody>\n",
       "    <tr>\n",
       "      <th>2</th>\n",
       "      <td>Make You Mine (feat. Moa Lisa)</td>\n",
       "      <td>Mike Williams</td>\n",
       "      <td>1ICPREUY4yMNeFEgbNh7D5</td>\n",
       "      <td>0.720</td>\n",
       "      <td>0.871964</td>\n",
       "      <td>0.0569</td>\n",
       "      <td>0.01710</td>\n",
       "      <td>0.2150</td>\n",
       "      <td>1</td>\n",
       "    </tr>\n",
       "    <tr>\n",
       "      <th>7</th>\n",
       "      <td>Ko Ko Bop</td>\n",
       "      <td>EXO</td>\n",
       "      <td>5EzitieoPnjyKHAq0gfRMa</td>\n",
       "      <td>0.749</td>\n",
       "      <td>0.831463</td>\n",
       "      <td>0.0468</td>\n",
       "      <td>0.03190</td>\n",
       "      <td>0.0678</td>\n",
       "      <td>1</td>\n",
       "    </tr>\n",
       "    <tr>\n",
       "      <th>12</th>\n",
       "      <td>Serenata Jiwa Lara</td>\n",
       "      <td>Diskoria</td>\n",
       "      <td>7ivFVBVYH5akFOtOAyeJ4j</td>\n",
       "      <td>0.608</td>\n",
       "      <td>0.834998</td>\n",
       "      <td>0.0312</td>\n",
       "      <td>0.09520</td>\n",
       "      <td>0.2220</td>\n",
       "      <td>1</td>\n",
       "    </tr>\n",
       "    <tr>\n",
       "      <th>1</th>\n",
       "      <td>Wait Another Day</td>\n",
       "      <td>Mike Williams</td>\n",
       "      <td>7qZOnik9K8Mv987ccBjwwj</td>\n",
       "      <td>0.727</td>\n",
       "      <td>0.814402</td>\n",
       "      <td>0.0377</td>\n",
       "      <td>0.02720</td>\n",
       "      <td>0.1180</td>\n",
       "      <td>1</td>\n",
       "    </tr>\n",
       "    <tr>\n",
       "      <th>9</th>\n",
       "      <td>Superheroes</td>\n",
       "      <td>The Script</td>\n",
       "      <td>37sINbJZcFdHFAsVNsPq1i</td>\n",
       "      <td>0.491</td>\n",
       "      <td>0.783431</td>\n",
       "      <td>0.0395</td>\n",
       "      <td>0.00219</td>\n",
       "      <td>0.0741</td>\n",
       "      <td>1</td>\n",
       "    </tr>\n",
       "    <tr>\n",
       "      <th>3</th>\n",
       "      <td>Wait For You (feat. Maia Wright)</td>\n",
       "      <td>Mike Williams</td>\n",
       "      <td>0OpfRbSog1yotyMpFVX6K9</td>\n",
       "      <td>0.517</td>\n",
       "      <td>1.000000</td>\n",
       "      <td>0.0398</td>\n",
       "      <td>0.22400</td>\n",
       "      <td>0.0921</td>\n",
       "      <td>1</td>\n",
       "    </tr>\n",
       "    <tr>\n",
       "      <th>10</th>\n",
       "      <td>Hall of Fame (feat. will.i.am)</td>\n",
       "      <td>The Script</td>\n",
       "      <td>7wMq5n8mYSKlQIGECKUgTX</td>\n",
       "      <td>0.421</td>\n",
       "      <td>0.615970</td>\n",
       "      <td>0.0565</td>\n",
       "      <td>0.06530</td>\n",
       "      <td>0.1230</td>\n",
       "      <td>1</td>\n",
       "    </tr>\n",
       "    <tr>\n",
       "      <th>11</th>\n",
       "      <td>You Know I'll Go Get</td>\n",
       "      <td>DJ Haning</td>\n",
       "      <td>7oQqbE69h5VEU25RZHIZ5p</td>\n",
       "      <td>0.859</td>\n",
       "      <td>0.814172</td>\n",
       "      <td>0.0452</td>\n",
       "      <td>0.00920</td>\n",
       "      <td>0.2080</td>\n",
       "      <td>1</td>\n",
       "    </tr>\n",
       "  </tbody>\n",
       "</table>\n",
       "</div>"
      ],
      "text/plain": [
       "                                name         artist                      id  \\\n",
       "2     Make You Mine (feat. Moa Lisa)  Mike Williams  1ICPREUY4yMNeFEgbNh7D5   \n",
       "7                          Ko Ko Bop            EXO  5EzitieoPnjyKHAq0gfRMa   \n",
       "12                Serenata Jiwa Lara       Diskoria  7ivFVBVYH5akFOtOAyeJ4j   \n",
       "1                   Wait Another Day  Mike Williams  7qZOnik9K8Mv987ccBjwwj   \n",
       "9                        Superheroes     The Script  37sINbJZcFdHFAsVNsPq1i   \n",
       "3   Wait For You (feat. Maia Wright)  Mike Williams  0OpfRbSog1yotyMpFVX6K9   \n",
       "10    Hall of Fame (feat. will.i.am)     The Script  7wMq5n8mYSKlQIGECKUgTX   \n",
       "11              You Know I'll Go Get      DJ Haning  7oQqbE69h5VEU25RZHIZ5p   \n",
       "\n",
       "    danceability  loudness  speechiness  acousticness  liveness  label  \n",
       "2          0.720  0.871964       0.0569       0.01710    0.2150      1  \n",
       "7          0.749  0.831463       0.0468       0.03190    0.0678      1  \n",
       "12         0.608  0.834998       0.0312       0.09520    0.2220      1  \n",
       "1          0.727  0.814402       0.0377       0.02720    0.1180      1  \n",
       "9          0.491  0.783431       0.0395       0.00219    0.0741      1  \n",
       "3          0.517  1.000000       0.0398       0.22400    0.0921      1  \n",
       "10         0.421  0.615970       0.0565       0.06530    0.1230      1  \n",
       "11         0.859  0.814172       0.0452       0.00920    0.2080      1  "
      ]
     },
     "execution_count": 60,
     "metadata": {},
     "output_type": "execute_result"
    }
   ],
   "source": [
    "songs[songs['label']==1].head(15)"
   ]
  },
  {
   "cell_type": "code",
   "execution_count": 61,
   "metadata": {},
   "outputs": [
    {
     "data": {
      "text/html": [
       "<div>\n",
       "<style scoped>\n",
       "    .dataframe tbody tr th:only-of-type {\n",
       "        vertical-align: middle;\n",
       "    }\n",
       "\n",
       "    .dataframe tbody tr th {\n",
       "        vertical-align: top;\n",
       "    }\n",
       "\n",
       "    .dataframe thead th {\n",
       "        text-align: right;\n",
       "    }\n",
       "</style>\n",
       "<table border=\"1\" class=\"dataframe\">\n",
       "  <thead>\n",
       "    <tr style=\"text-align: right;\">\n",
       "      <th></th>\n",
       "      <th>name</th>\n",
       "      <th>artist</th>\n",
       "      <th>id</th>\n",
       "      <th>danceability</th>\n",
       "      <th>loudness</th>\n",
       "      <th>speechiness</th>\n",
       "      <th>acousticness</th>\n",
       "      <th>liveness</th>\n",
       "      <th>label</th>\n",
       "    </tr>\n",
       "  </thead>\n",
       "  <tbody>\n",
       "    <tr>\n",
       "      <th>4</th>\n",
       "      <td>I Got You</td>\n",
       "      <td>Mike Williams</td>\n",
       "      <td>4QE7rcOeNErdz87pgSZ823</td>\n",
       "      <td>0.597</td>\n",
       "      <td>0.069859</td>\n",
       "      <td>0.0782</td>\n",
       "      <td>0.1140</td>\n",
       "      <td>0.700</td>\n",
       "      <td>2</td>\n",
       "    </tr>\n",
       "    <tr>\n",
       "      <th>17</th>\n",
       "      <td>Secukupnya</td>\n",
       "      <td>Hindia</td>\n",
       "      <td>5drW6PGRxkE6MxttzVLNk5</td>\n",
       "      <td>0.731</td>\n",
       "      <td>0.474562</td>\n",
       "      <td>0.0344</td>\n",
       "      <td>0.1900</td>\n",
       "      <td>0.354</td>\n",
       "      <td>2</td>\n",
       "    </tr>\n",
       "    <tr>\n",
       "      <th>13</th>\n",
       "      <td>Balada Insan Muda</td>\n",
       "      <td>Diskoria</td>\n",
       "      <td>7rt1ze8gO84v4k9vBvb7JB</td>\n",
       "      <td>0.626</td>\n",
       "      <td>0.414848</td>\n",
       "      <td>0.0364</td>\n",
       "      <td>0.1110</td>\n",
       "      <td>0.472</td>\n",
       "      <td>2</td>\n",
       "    </tr>\n",
       "    <tr>\n",
       "      <th>6</th>\n",
       "      <td>LATHI (ꦭꦛꦶ)</td>\n",
       "      <td>Weird Genius</td>\n",
       "      <td>7ksK7gpPDFdY4JLHr1hKfY</td>\n",
       "      <td>0.580</td>\n",
       "      <td>0.633646</td>\n",
       "      <td>0.0349</td>\n",
       "      <td>0.0857</td>\n",
       "      <td>0.478</td>\n",
       "      <td>2</td>\n",
       "    </tr>\n",
       "  </tbody>\n",
       "</table>\n",
       "</div>"
      ],
      "text/plain": [
       "                 name         artist                      id  danceability  \\\n",
       "4           I Got You  Mike Williams  4QE7rcOeNErdz87pgSZ823         0.597   \n",
       "17         Secukupnya         Hindia  5drW6PGRxkE6MxttzVLNk5         0.731   \n",
       "13  Balada Insan Muda       Diskoria  7rt1ze8gO84v4k9vBvb7JB         0.626   \n",
       "6         LATHI (ꦭꦛꦶ)   Weird Genius  7ksK7gpPDFdY4JLHr1hKfY         0.580   \n",
       "\n",
       "    loudness  speechiness  acousticness  liveness  label  \n",
       "4   0.069859       0.0782        0.1140     0.700      2  \n",
       "17  0.474562       0.0344        0.1900     0.354      2  \n",
       "13  0.414848       0.0364        0.1110     0.472      2  \n",
       "6   0.633646       0.0349        0.0857     0.478      2  "
      ]
     },
     "execution_count": 61,
     "metadata": {},
     "output_type": "execute_result"
    }
   ],
   "source": [
    "songs[songs['label']==2].head(30)"
   ]
  },
  {
   "cell_type": "code",
   "execution_count": 62,
   "metadata": {},
   "outputs": [
    {
     "data": {
      "text/html": [
       "<div>\n",
       "<style scoped>\n",
       "    .dataframe tbody tr th:only-of-type {\n",
       "        vertical-align: middle;\n",
       "    }\n",
       "\n",
       "    .dataframe tbody tr th {\n",
       "        vertical-align: top;\n",
       "    }\n",
       "\n",
       "    .dataframe thead th {\n",
       "        text-align: right;\n",
       "    }\n",
       "</style>\n",
       "<table border=\"1\" class=\"dataframe\">\n",
       "  <thead>\n",
       "    <tr style=\"text-align: right;\">\n",
       "      <th></th>\n",
       "      <th>name</th>\n",
       "      <th>artist</th>\n",
       "      <th>id</th>\n",
       "      <th>danceability</th>\n",
       "      <th>loudness</th>\n",
       "      <th>speechiness</th>\n",
       "      <th>acousticness</th>\n",
       "      <th>liveness</th>\n",
       "      <th>label</th>\n",
       "    </tr>\n",
       "  </thead>\n",
       "  <tbody>\n",
       "    <tr>\n",
       "      <th>5</th>\n",
       "      <td>Memori</td>\n",
       "      <td>Eka Gustiwana</td>\n",
       "      <td>266KLge0BPmxLkMqtPhOJZ</td>\n",
       "      <td>0.784</td>\n",
       "      <td>0.727098</td>\n",
       "      <td>0.0322</td>\n",
       "      <td>0.483</td>\n",
       "      <td>0.170</td>\n",
       "      <td>3</td>\n",
       "    </tr>\n",
       "    <tr>\n",
       "      <th>8</th>\n",
       "      <td>death bed (coffee for your head) (feat. beabad...</td>\n",
       "      <td>Powfu</td>\n",
       "      <td>7eJMfftS33KTjuF7lTsMCx</td>\n",
       "      <td>0.726</td>\n",
       "      <td>0.232324</td>\n",
       "      <td>0.1350</td>\n",
       "      <td>0.731</td>\n",
       "      <td>0.696</td>\n",
       "      <td>3</td>\n",
       "    </tr>\n",
       "    <tr>\n",
       "      <th>0</th>\n",
       "      <td>もしもまたいつか (Moshimo Mata Itsuka) Feat. Ariel NIDJI</td>\n",
       "      <td>Ariel NOAH</td>\n",
       "      <td>3OVQ4OkklQ0LpIfd7Bl0jI</td>\n",
       "      <td>0.742</td>\n",
       "      <td>0.851137</td>\n",
       "      <td>0.0302</td>\n",
       "      <td>0.629</td>\n",
       "      <td>0.152</td>\n",
       "      <td>3</td>\n",
       "    </tr>\n",
       "    <tr>\n",
       "      <th>14</th>\n",
       "      <td>Bentuk Cinta</td>\n",
       "      <td>Eclat Story</td>\n",
       "      <td>4J12uL4aNKzRco173fPyYQ</td>\n",
       "      <td>0.730</td>\n",
       "      <td>0.000000</td>\n",
       "      <td>0.0323</td>\n",
       "      <td>0.585</td>\n",
       "      <td>0.135</td>\n",
       "      <td>3</td>\n",
       "    </tr>\n",
       "  </tbody>\n",
       "</table>\n",
       "</div>"
      ],
      "text/plain": [
       "                                                 name         artist  \\\n",
       "5                                              Memori  Eka Gustiwana   \n",
       "8   death bed (coffee for your head) (feat. beabad...          Powfu   \n",
       "0    もしもまたいつか (Moshimo Mata Itsuka) Feat. Ariel NIDJI     Ariel NOAH   \n",
       "14                                       Bentuk Cinta    Eclat Story   \n",
       "\n",
       "                        id  danceability  loudness  speechiness  acousticness  \\\n",
       "5   266KLge0BPmxLkMqtPhOJZ         0.784  0.727098       0.0322         0.483   \n",
       "8   7eJMfftS33KTjuF7lTsMCx         0.726  0.232324       0.1350         0.731   \n",
       "0   3OVQ4OkklQ0LpIfd7Bl0jI         0.742  0.851137       0.0302         0.629   \n",
       "14  4J12uL4aNKzRco173fPyYQ         0.730  0.000000       0.0323         0.585   \n",
       "\n",
       "    liveness  label  \n",
       "5      0.170      3  \n",
       "8      0.696      3  \n",
       "0      0.152      3  \n",
       "14     0.135      3  "
      ]
     },
     "execution_count": 62,
     "metadata": {},
     "output_type": "execute_result"
    }
   ],
   "source": [
    "songs[songs['label']==3].head(40)"
   ]
  },
  {
   "cell_type": "code",
   "execution_count": 63,
   "metadata": {},
   "outputs": [
    {
     "data": {
      "text/plain": [
       "array([[<matplotlib.axes._subplots.AxesSubplot object at 0x000001F0F6E46CC8>,\n",
       "        <matplotlib.axes._subplots.AxesSubplot object at 0x000001F0F6E381C8>],\n",
       "       [<matplotlib.axes._subplots.AxesSubplot object at 0x000001F0F8497348>,\n",
       "        <matplotlib.axes._subplots.AxesSubplot object at 0x000001F0F84906C8>],\n",
       "       [<matplotlib.axes._subplots.AxesSubplot object at 0x000001F0F7452E08>,\n",
       "        <matplotlib.axes._subplots.AxesSubplot object at 0x000001F0F5CCBA08>]],\n",
       "      dtype=object)"
      ]
     },
     "execution_count": 63,
     "metadata": {},
     "output_type": "execute_result"
    },
    {
     "data": {
      "image/png": "[encoded data removed]",
      "text/plain": [
       "<Figure size 432x288 with 6 Axes>"
      ]
     },
     "metadata": {},
     "output_type": "display_data"
    }
   ],
   "source": [
    "songs[songs['label']==2].hist()"
   ]
  },
  {
   "cell_type": "code",
   "execution_count": 64,
   "metadata": {},
   "outputs": [
    {
     "data": {
      "text/plain": [
       "danceability    0.745500\n",
       "loudness        0.452640\n",
       "speechiness     0.057425\n",
       "acousticness    0.607000\n",
       "liveness        0.288250\n",
       "label           3.000000\n",
       "dtype: float64"
      ]
     },
     "execution_count": 64,
     "metadata": {},
     "output_type": "execute_result"
    }
   ],
   "source": [
    "songs[songs['label']==3].mean()"
   ]
  },
  {
   "cell_type": "code",
   "execution_count": 65,
   "metadata": {},
   "outputs": [
    {
     "data": {
      "text/plain": [
       "RandomForestClassifier(bootstrap=True, ccp_alpha=0.0, class_weight=None,\n",
       "                       criterion='gini', max_depth=None, max_features='auto',\n",
       "                       max_leaf_nodes=None, max_samples=None,\n",
       "                       min_impurity_decrease=0.0, min_impurity_split=None,\n",
       "                       min_samples_leaf=1, min_samples_split=2,\n",
       "                       min_weight_fraction_leaf=0.0, n_estimators=100,\n",
       "                       n_jobs=None, oob_score=False, random_state=None,\n",
       "                       verbose=0, warm_start=False)"
      ]
     },
     "execution_count": 65,
     "metadata": {},
     "output_type": "execute_result"
    }
   ],
   "source": [
    "from sklearn.ensemble import RandomForestClassifier\n",
    "from sklearn.model_selection import train_test_split\n",
    "from sklearn.model_selection import cross_val_score\n",
    "from sklearn.metrics import classification_report, confusion_matrix\n",
    "from sklearn.utils.multiclass import unique_labels\n",
    "\n",
    "X = songs_features\n",
    "y = y_kmeans\n",
    "\n",
    "X_train, X_test, y_train, y_test = train_test_split(X, y, test_size=0.33)\n",
    "\n",
    "rfc = RandomForestClassifier(n_estimators=100,criterion='gini')\n",
    "rfc.fit(X_train,y_train)"
   ]
  },
  {
   "cell_type": "code",
   "execution_count": 66,
   "metadata": {},
   "outputs": [],
   "source": [
    "# Predicting the Test set results\n",
    "y_pred = rfc.predict(X_test)\n",
    "    "
   ]
  },
  {
   "cell_type": "code",
   "execution_count": 67,
   "metadata": {},
   "outputs": [],
   "source": [
    "\n",
    "\n",
    "def plot_confusion_matrix(y_true, y_pred, classes,\n",
    "                          normalize=False,\n",
    "                          title=None,\n",
    "                          cmap=plt.cm.Blues):\n",
    "    \"\"\"\n",
    "    This function prints and plots the confusion matrix.\n",
    "    Normalization can be applied by setting `normalize=True`.\n",
    "    \"\"\"\n",
    "    if not title:\n",
    "        if normalize:\n",
    "            title = 'Normalized confusion matrix'\n",
    "        else:\n",
    "            title = 'Confusion matrix'\n",
    "\n",
    "    # Compute confusion matrix\n",
    "    cm = confusion_matrix(y_true, y_pred)\n",
    "    # Only use the labels that appear in the data\n",
    "    if normalize:\n",
    "        cm = cm.astype('float') / cm.sum(axis=1)[:, np.newaxis]\n",
    "        print(\"Normalized confusion matrix\")\n",
    "    else:\n",
    "        print('Confusion matrix, without normalization')\n",
    "\n",
    "    print(cm)\n",
    "\n",
    "    fig, ax = plt.subplots()\n",
    "    im = ax.imshow(cm, interpolation='nearest', cmap=cmap)\n",
    "    ax.figure.colorbar(im, ax=ax)\n",
    "    # We want to show all ticks...\n",
    "    ax.set(xticks=np.arange(cm.shape[1]),\n",
    "           yticks=np.arange(cm.shape[0]),\n",
    "           # ... and label them with the respective list entries\n",
    "           xticklabels=classes, yticklabels=classes,\n",
    "           title=title,\n",
    "           ylabel='True label',\n",
    "           xlabel='Predicted label')\n",
    "\n",
    "    # Rotate the tick labels and set their alignment.\n",
    "    plt.setp(ax.get_xticklabels(), rotation=45, ha=\"right\",\n",
    "             rotation_mode=\"anchor\")\n",
    "\n",
    "    # Loop over data dimensions and create text annotations.\n",
    "    fmt = '.2f' if normalize else 'd'\n",
    "    thresh = cm.max() / 2.\n",
    "    for i in range(cm.shape[0]):\n",
    "        for j in range(cm.shape[1]):\n",
    "            ax.text(j, i, format(cm[i, j], fmt),\n",
    "                    ha=\"center\", va=\"center\",\n",
    "                    color=\"white\" if cm[i, j] > thresh else \"black\")\n",
    "    fig.tight_layout()\n",
    "    return ax\n"
   ]
  },
  {
   "cell_type": "code",
   "execution_count": 30,
   "metadata": {},
   "outputs": [
    {
     "name": "stdout",
     "output_type": "stream",
     "text": [
      "Confusion matrix, without normalization\n",
      "[[3 0 1]\n",
      " [0 1 0]\n",
      " [0 0 1]]\n"
     ]
    },
    {
     "data": {
      "text/plain": [
       "<matplotlib.axes._subplots.AxesSubplot at 0x1f0f6665e48>"
      ]
     },
     "execution_count": 30,
     "metadata": {},
     "output_type": "execute_result"
    },
    {
     "data": {
      "image/png": "[encoded data removed]",
      "text/plain": [
       "<Figure size 432x288 with 2 Axes>"
      ]
     },
     "metadata": {},
     "output_type": "display_data"
    }
   ],
   "source": [
    "# Confusion matrix\n",
    "definitions = ['Chill','Energetic','Cheerful','Romantic']\n",
    "# reversefactor = dict(zip(range(4),definitions))\n",
    "# actual = np.vectorize(reversefactor.get)(y_test)\n",
    "# pred = np.vectorize(reversefactor.get)(y_pred)\n",
    "# print(pd.crosstab(actual, pred, rownames=['Actual Mood'], colnames=['Predicted Mood']))\n",
    "\n",
    "plot_confusion_matrix(y_test, y_pred, classes=definitions,\n",
    "                      title='Confusion matrix for Random Forest')"
   ]
  },
  {
   "cell_type": "code",
   "execution_count": 31,
   "metadata": {},
   "outputs": [
    {
     "data": {
      "text/plain": [
       "[('danceability', 0.1350568273579858),\n",
       " ('loudness', 0.30668540719016385),\n",
       " ('speechiness', 0.08065903630965682),\n",
       " ('acousticness', 0.321971488647252),\n",
       " ('liveness', 0.15562724049494164)]"
      ]
     },
     "execution_count": 31,
     "metadata": {},
     "output_type": "execute_result"
    }
   ],
   "source": [
    "# View a list of the features and their importance scores\n",
    "features = songs_features.columns\n",
    "list(zip(songs_features[features], rfc.feature_importances_))"
   ]
  },
  {
   "cell_type": "code",
   "execution_count": 32,
   "metadata": {},
   "outputs": [
    {
     "data": {
      "text/plain": [
       "KNeighborsClassifier(algorithm='auto', leaf_size=30, metric='minkowski',\n",
       "                     metric_params=None, n_jobs=None, n_neighbors=3, p=2,\n",
       "                     weights='uniform')"
      ]
     },
     "execution_count": 32,
     "metadata": {},
     "output_type": "execute_result"
    }
   ],
   "source": [
    "from sklearn.neighbors import KNeighborsClassifier\n",
    "\n",
    "knn = KNeighborsClassifier(n_neighbors=3)\n",
    "# Train the model using the training sets\n",
    "knn.fit(X_train,y_train)\n"
   ]
  },
  {
   "cell_type": "code",
   "execution_count": 33,
   "metadata": {},
   "outputs": [],
   "source": [
    "knn_pred =knn.predict(X_test)"
   ]
  },
  {
   "cell_type": "code",
   "execution_count": 34,
   "metadata": {},
   "outputs": [
    {
     "name": "stdout",
     "output_type": "stream",
     "text": [
      "Confusion matrix, without normalization\n",
      "[[3 0 1]\n",
      " [0 1 0]\n",
      " [0 0 1]]\n"
     ]
    },
    {
     "data": {
      "text/plain": [
       "<matplotlib.axes._subplots.AxesSubplot at 0x1f0f671a888>"
      ]
     },
     "execution_count": 34,
     "metadata": {},
     "output_type": "execute_result"
    },
    {
     "data": {
      "image/png": "[encoded data removed]",
      "text/plain": [
       "<Figure size 432x288 with 2 Axes>"
      ]
     },
     "metadata": {},
     "output_type": "display_data"
    }
   ],
   "source": [
    "plot_confusion_matrix(y_test, knn_pred, classes=definitions,\n",
    "                      title='Confusion matrix for KNN')"
   ]
  },
  {
   "cell_type": "code",
   "execution_count": 35,
   "metadata": {},
   "outputs": [],
   "source": [
    "#Import svm model\n",
    "from sklearn import svm\n",
    "#Create a svm Classifier\n",
    "svm = svm.SVC(kernel=\"linear\") \n",
    "\n",
    "#Train the model using the training sets\n",
    "svm.fit(X_train, y_train)\n",
    "\n",
    "#Predict the response for test dataset\n",
    "svm_pred = svm.predict(X_test)"
   ]
  },
  {
   "cell_type": "code",
   "execution_count": 36,
   "metadata": {},
   "outputs": [
    {
     "name": "stdout",
     "output_type": "stream",
     "text": [
      "Confusion matrix, without normalization\n",
      "[[4 0 0]\n",
      " [0 1 0]\n",
      " [1 0 0]]\n"
     ]
    },
    {
     "data": {
      "text/plain": [
       "<matplotlib.axes._subplots.AxesSubplot at 0x1f0f67cf848>"
      ]
     },
     "execution_count": 36,
     "metadata": {},
     "output_type": "execute_result"
    },
    {
     "data": {
      "image/png": "[encoded data removed]",
      "text/plain": [
       "<Figure size 432x288 with 2 Axes>"
      ]
     },
     "metadata": {},
     "output_type": "display_data"
    }
   ],
   "source": [
    "plot_confusion_matrix(y_test, svm_pred, classes=definitions,\n",
    "                      title='Confusion matrix for SVM')"
   ]
  },
  {
   "cell_type": "code",
   "execution_count": 37,
   "metadata": {},
   "outputs": [],
   "source": [
    "from sklearn.neural_network import MLPClassifier"
   ]
  },
  {
   "cell_type": "code",
   "execution_count": 38,
   "metadata": {},
   "outputs": [
    {
     "name": "stderr",
     "output_type": "stream",
     "text": [
      "C:\\Users\\bayuw\\AppData\\Local\\Programs\\Python\\Python37\\lib\\site-packages\\sklearn\\neural_network\\_multilayer_perceptron.py:571: ConvergenceWarning: Stochastic Optimizer: Maximum iterations (200) reached and the optimization hasn't converged yet.\n",
      "  % self.max_iter, ConvergenceWarning)\n"
     ]
    },
    {
     "data": {
      "text/plain": [
       "MLPClassifier(activation='relu', alpha=0.0001, batch_size='auto', beta_1=0.9,\n",
       "              beta_2=0.999, early_stopping=False, epsilon=1e-08,\n",
       "              hidden_layer_sizes=(100,), learning_rate='constant',\n",
       "              learning_rate_init=0.001, max_fun=15000, max_iter=200,\n",
       "              momentum=0.9, n_iter_no_change=10, nesterovs_momentum=True,\n",
       "              power_t=0.5, random_state=None, shuffle=True, solver='adam',\n",
       "              tol=0.0001, validation_fraction=0.1, verbose=False,\n",
       "              warm_start=False)"
      ]
     },
     "execution_count": 38,
     "metadata": {},
     "output_type": "execute_result"
    }
   ],
   "source": [
    "mlp = MLPClassifier()\n",
    "mlp.fit(X_train, y_train)"
   ]
  },
  {
   "cell_type": "code",
   "execution_count": 39,
   "metadata": {},
   "outputs": [],
   "source": [
    "mlp_pred = mlp.predict(X_test)"
   ]
  },
  {
   "cell_type": "code",
   "execution_count": 40,
   "metadata": {},
   "outputs": [
    {
     "name": "stdout",
     "output_type": "stream",
     "text": [
      "Confusion matrix, without normalization\n",
      "[[4 0 0]\n",
      " [0 1 0]\n",
      " [0 0 1]]\n"
     ]
    },
    {
     "data": {
      "text/plain": [
       "<matplotlib.axes._subplots.AxesSubplot at 0x1f0f5cb89c8>"
      ]
     },
     "execution_count": 40,
     "metadata": {},
     "output_type": "execute_result"
    },
    {
     "data": {
      "image/png": "[encoded data removed]",
      "text/plain": [
       "<Figure size 432x288 with 2 Axes>"
      ]
     },
     "metadata": {},
     "output_type": "display_data"
    }
   ],
   "source": [
    "plot_confusion_matrix(y_test, mlp_pred, classes=definitions,\n",
    "                      title='Confusion matrix for MLP')"
   ]
  },
  {
   "cell_type": "code",
   "execution_count": 41,
   "metadata": {},
   "outputs": [
    {
     "ename": "ValueError",
     "evalue": "Number of classes, 3, does not match size of target_names, 4. Try specifying the labels parameter",
     "output_type": "error",
     "traceback": [
      "\u001b[1;31m---------------------------------------------------------------------------\u001b[0m",
      "\u001b[1;31mValueError\u001b[0m                                Traceback (most recent call last)",
      "\u001b[1;32m<ipython-input-41-2816333b5d80>\u001b[0m in \u001b[0;36m<module>\u001b[1;34m\u001b[0m\n\u001b[1;32m----> 1\u001b[1;33m \u001b[0mprint\u001b[0m\u001b[1;33m(\u001b[0m\u001b[0mclassification_report\u001b[0m\u001b[1;33m(\u001b[0m\u001b[0my_test\u001b[0m\u001b[1;33m,\u001b[0m\u001b[0mmlp_pred\u001b[0m\u001b[1;33m,\u001b[0m\u001b[0mtarget_names\u001b[0m\u001b[1;33m=\u001b[0m\u001b[0mdefinitions\u001b[0m\u001b[1;33m)\u001b[0m\u001b[1;33m+\u001b[0m\u001b[1;34m'MLP'\u001b[0m\u001b[1;33m)\u001b[0m\u001b[1;33m\u001b[0m\u001b[1;33m\u001b[0m\u001b[0m\n\u001b[0m",
      "\u001b[1;32m~\\AppData\\Local\\Programs\\Python\\Python37\\lib\\site-packages\\sklearn\\metrics\\_classification.py\u001b[0m in \u001b[0;36mclassification_report\u001b[1;34m(y_true, y_pred, labels, target_names, sample_weight, digits, output_dict, zero_division)\u001b[0m\n\u001b[0;32m   1993\u001b[0m                 \u001b[1;34m\"Number of classes, {0}, does not match size of \"\u001b[0m\u001b[1;33m\u001b[0m\u001b[1;33m\u001b[0m\u001b[0m\n\u001b[0;32m   1994\u001b[0m                 \u001b[1;34m\"target_names, {1}. Try specifying the labels \"\u001b[0m\u001b[1;33m\u001b[0m\u001b[1;33m\u001b[0m\u001b[0m\n\u001b[1;32m-> 1995\u001b[1;33m                 \u001b[1;34m\"parameter\"\u001b[0m\u001b[1;33m.\u001b[0m\u001b[0mformat\u001b[0m\u001b[1;33m(\u001b[0m\u001b[0mlen\u001b[0m\u001b[1;33m(\u001b[0m\u001b[0mlabels\u001b[0m\u001b[1;33m)\u001b[0m\u001b[1;33m,\u001b[0m \u001b[0mlen\u001b[0m\u001b[1;33m(\u001b[0m\u001b[0mtarget_names\u001b[0m\u001b[1;33m)\u001b[0m\u001b[1;33m)\u001b[0m\u001b[1;33m\u001b[0m\u001b[1;33m\u001b[0m\u001b[0m\n\u001b[0m\u001b[0;32m   1996\u001b[0m             )\n\u001b[0;32m   1997\u001b[0m     \u001b[1;32mif\u001b[0m \u001b[0mtarget_names\u001b[0m \u001b[1;32mis\u001b[0m \u001b[1;32mNone\u001b[0m\u001b[1;33m:\u001b[0m\u001b[1;33m\u001b[0m\u001b[1;33m\u001b[0m\u001b[0m\n",
      "\u001b[1;31mValueError\u001b[0m: Number of classes, 3, does not match size of target_names, 4. Try specifying the labels parameter"
     ]
    }
   ],
   "source": [
    "print(classification_report(y_test,mlp_pred,target_names=definitions)+'MLP')"
   ]
  },
  {
   "cell_type": "code",
   "execution_count": 42,
   "metadata": {},
   "outputs": [
    {
     "ename": "ValueError",
     "evalue": "Number of classes, 3, does not match size of target_names, 4. Try specifying the labels parameter",
     "output_type": "error",
     "traceback": [
      "\u001b[1;31m---------------------------------------------------------------------------\u001b[0m",
      "\u001b[1;31mValueError\u001b[0m                                Traceback (most recent call last)",
      "\u001b[1;32m<ipython-input-42-b1785434fb7e>\u001b[0m in \u001b[0;36m<module>\u001b[1;34m\u001b[0m\n\u001b[1;32m----> 1\u001b[1;33m \u001b[0mprint\u001b[0m\u001b[1;33m(\u001b[0m\u001b[0mclassification_report\u001b[0m\u001b[1;33m(\u001b[0m\u001b[0my_test\u001b[0m\u001b[1;33m,\u001b[0m\u001b[0msvm_pred\u001b[0m\u001b[1;33m,\u001b[0m\u001b[0mtarget_names\u001b[0m\u001b[1;33m=\u001b[0m\u001b[0mdefinitions\u001b[0m\u001b[1;33m)\u001b[0m\u001b[1;33m+\u001b[0m\u001b[1;34m'SVM'\u001b[0m\u001b[1;33m)\u001b[0m\u001b[1;33m\u001b[0m\u001b[1;33m\u001b[0m\u001b[0m\n\u001b[0m",
      "\u001b[1;32m~\\AppData\\Local\\Programs\\Python\\Python37\\lib\\site-packages\\sklearn\\metrics\\_classification.py\u001b[0m in \u001b[0;36mclassification_report\u001b[1;34m(y_true, y_pred, labels, target_names, sample_weight, digits, output_dict, zero_division)\u001b[0m\n\u001b[0;32m   1993\u001b[0m                 \u001b[1;34m\"Number of classes, {0}, does not match size of \"\u001b[0m\u001b[1;33m\u001b[0m\u001b[1;33m\u001b[0m\u001b[0m\n\u001b[0;32m   1994\u001b[0m                 \u001b[1;34m\"target_names, {1}. Try specifying the labels \"\u001b[0m\u001b[1;33m\u001b[0m\u001b[1;33m\u001b[0m\u001b[0m\n\u001b[1;32m-> 1995\u001b[1;33m                 \u001b[1;34m\"parameter\"\u001b[0m\u001b[1;33m.\u001b[0m\u001b[0mformat\u001b[0m\u001b[1;33m(\u001b[0m\u001b[0mlen\u001b[0m\u001b[1;33m(\u001b[0m\u001b[0mlabels\u001b[0m\u001b[1;33m)\u001b[0m\u001b[1;33m,\u001b[0m \u001b[0mlen\u001b[0m\u001b[1;33m(\u001b[0m\u001b[0mtarget_names\u001b[0m\u001b[1;33m)\u001b[0m\u001b[1;33m)\u001b[0m\u001b[1;33m\u001b[0m\u001b[1;33m\u001b[0m\u001b[0m\n\u001b[0m\u001b[0;32m   1996\u001b[0m             )\n\u001b[0;32m   1997\u001b[0m     \u001b[1;32mif\u001b[0m \u001b[0mtarget_names\u001b[0m \u001b[1;32mis\u001b[0m \u001b[1;32mNone\u001b[0m\u001b[1;33m:\u001b[0m\u001b[1;33m\u001b[0m\u001b[1;33m\u001b[0m\u001b[0m\n",
      "\u001b[1;31mValueError\u001b[0m: Number of classes, 3, does not match size of target_names, 4. Try specifying the labels parameter"
     ]
    }
   ],
   "source": [
    "print(classification_report(y_test,svm_pred,target_names=definitions)+'SVM')"
   ]
  },
  {
   "cell_type": "code",
   "execution_count": 43,
   "metadata": {},
   "outputs": [
    {
     "ename": "ValueError",
     "evalue": "Number of classes, 3, does not match size of target_names, 4. Try specifying the labels parameter",
     "output_type": "error",
     "traceback": [
      "\u001b[1;31m---------------------------------------------------------------------------\u001b[0m",
      "\u001b[1;31mValueError\u001b[0m                                Traceback (most recent call last)",
      "\u001b[1;32m<ipython-input-43-5b99a6003caf>\u001b[0m in \u001b[0;36m<module>\u001b[1;34m\u001b[0m\n\u001b[1;32m----> 1\u001b[1;33m \u001b[0mprint\u001b[0m\u001b[1;33m(\u001b[0m\u001b[0mclassification_report\u001b[0m\u001b[1;33m(\u001b[0m\u001b[0my_test\u001b[0m\u001b[1;33m,\u001b[0m\u001b[0mknn_pred\u001b[0m\u001b[1;33m,\u001b[0m\u001b[0mtarget_names\u001b[0m\u001b[1;33m=\u001b[0m\u001b[0mdefinitions\u001b[0m\u001b[1;33m)\u001b[0m\u001b[1;33m+\u001b[0m\u001b[1;34m'KNN'\u001b[0m\u001b[1;33m)\u001b[0m\u001b[1;33m\u001b[0m\u001b[1;33m\u001b[0m\u001b[0m\n\u001b[0m",
      "\u001b[1;32m~\\AppData\\Local\\Programs\\Python\\Python37\\lib\\site-packages\\sklearn\\metrics\\_classification.py\u001b[0m in \u001b[0;36mclassification_report\u001b[1;34m(y_true, y_pred, labels, target_names, sample_weight, digits, output_dict, zero_division)\u001b[0m\n\u001b[0;32m   1993\u001b[0m                 \u001b[1;34m\"Number of classes, {0}, does not match size of \"\u001b[0m\u001b[1;33m\u001b[0m\u001b[1;33m\u001b[0m\u001b[0m\n\u001b[0;32m   1994\u001b[0m                 \u001b[1;34m\"target_names, {1}. Try specifying the labels \"\u001b[0m\u001b[1;33m\u001b[0m\u001b[1;33m\u001b[0m\u001b[0m\n\u001b[1;32m-> 1995\u001b[1;33m                 \u001b[1;34m\"parameter\"\u001b[0m\u001b[1;33m.\u001b[0m\u001b[0mformat\u001b[0m\u001b[1;33m(\u001b[0m\u001b[0mlen\u001b[0m\u001b[1;33m(\u001b[0m\u001b[0mlabels\u001b[0m\u001b[1;33m)\u001b[0m\u001b[1;33m,\u001b[0m \u001b[0mlen\u001b[0m\u001b[1;33m(\u001b[0m\u001b[0mtarget_names\u001b[0m\u001b[1;33m)\u001b[0m\u001b[1;33m)\u001b[0m\u001b[1;33m\u001b[0m\u001b[1;33m\u001b[0m\u001b[0m\n\u001b[0m\u001b[0;32m   1996\u001b[0m             )\n\u001b[0;32m   1997\u001b[0m     \u001b[1;32mif\u001b[0m \u001b[0mtarget_names\u001b[0m \u001b[1;32mis\u001b[0m \u001b[1;32mNone\u001b[0m\u001b[1;33m:\u001b[0m\u001b[1;33m\u001b[0m\u001b[1;33m\u001b[0m\u001b[0m\n",
      "\u001b[1;31mValueError\u001b[0m: Number of classes, 3, does not match size of target_names, 4. Try specifying the labels parameter"
     ]
    }
   ],
   "source": [
    "print(classification_report(y_test,knn_pred,target_names=definitions)+'KNN')"
   ]
  },
  {
   "cell_type": "code",
   "execution_count": 44,
   "metadata": {},
   "outputs": [
    {
     "ename": "ValueError",
     "evalue": "Number of classes, 3, does not match size of target_names, 4. Try specifying the labels parameter",
     "output_type": "error",
     "traceback": [
      "\u001b[1;31m---------------------------------------------------------------------------\u001b[0m",
      "\u001b[1;31mValueError\u001b[0m                                Traceback (most recent call last)",
      "\u001b[1;32m<ipython-input-44-97b6b93e40c2>\u001b[0m in \u001b[0;36m<module>\u001b[1;34m\u001b[0m\n\u001b[1;32m----> 1\u001b[1;33m \u001b[0mprint\u001b[0m\u001b[1;33m(\u001b[0m\u001b[0mclassification_report\u001b[0m\u001b[1;33m(\u001b[0m\u001b[0my_test\u001b[0m\u001b[1;33m,\u001b[0m\u001b[0my_pred\u001b[0m\u001b[1;33m,\u001b[0m\u001b[0mtarget_names\u001b[0m\u001b[1;33m=\u001b[0m\u001b[0mdefinitions\u001b[0m\u001b[1;33m)\u001b[0m\u001b[1;33m+\u001b[0m\u001b[1;34m'forest'\u001b[0m\u001b[1;33m)\u001b[0m\u001b[1;33m\u001b[0m\u001b[1;33m\u001b[0m\u001b[0m\n\u001b[0m",
      "\u001b[1;32m~\\AppData\\Local\\Programs\\Python\\Python37\\lib\\site-packages\\sklearn\\metrics\\_classification.py\u001b[0m in \u001b[0;36mclassification_report\u001b[1;34m(y_true, y_pred, labels, target_names, sample_weight, digits, output_dict, zero_division)\u001b[0m\n\u001b[0;32m   1993\u001b[0m                 \u001b[1;34m\"Number of classes, {0}, does not match size of \"\u001b[0m\u001b[1;33m\u001b[0m\u001b[1;33m\u001b[0m\u001b[0m\n\u001b[0;32m   1994\u001b[0m                 \u001b[1;34m\"target_names, {1}. Try specifying the labels \"\u001b[0m\u001b[1;33m\u001b[0m\u001b[1;33m\u001b[0m\u001b[0m\n\u001b[1;32m-> 1995\u001b[1;33m                 \u001b[1;34m\"parameter\"\u001b[0m\u001b[1;33m.\u001b[0m\u001b[0mformat\u001b[0m\u001b[1;33m(\u001b[0m\u001b[0mlen\u001b[0m\u001b[1;33m(\u001b[0m\u001b[0mlabels\u001b[0m\u001b[1;33m)\u001b[0m\u001b[1;33m,\u001b[0m \u001b[0mlen\u001b[0m\u001b[1;33m(\u001b[0m\u001b[0mtarget_names\u001b[0m\u001b[1;33m)\u001b[0m\u001b[1;33m)\u001b[0m\u001b[1;33m\u001b[0m\u001b[1;33m\u001b[0m\u001b[0m\n\u001b[0m\u001b[0;32m   1996\u001b[0m             )\n\u001b[0;32m   1997\u001b[0m     \u001b[1;32mif\u001b[0m \u001b[0mtarget_names\u001b[0m \u001b[1;32mis\u001b[0m \u001b[1;32mNone\u001b[0m\u001b[1;33m:\u001b[0m\u001b[1;33m\u001b[0m\u001b[1;33m\u001b[0m\u001b[0m\n",
      "\u001b[1;31mValueError\u001b[0m: Number of classes, 3, does not match size of target_names, 4. Try specifying the labels parameter"
     ]
    }
   ],
   "source": [
    "print(classification_report(y_test,y_pred,target_names=definitions)+'forest')"
   ]
  },
  {
   "cell_type": "code",
   "execution_count": null,
   "metadata": {},
   "outputs": [],
   "source": []
  },
  {
   "cell_type": "code",
   "execution_count": null,
   "metadata": {},
   "outputs": [],
   "source": []
  },
  {
   "cell_type": "code",
   "execution_count": null,
   "metadata": {},
   "outputs": [],
   "source": []
  }
 ],
 "metadata": {
  "kernelspec": {
   "display_name": "Python 3.7.6 64-bit",
   "language": "python",
   "name": "python37664bit20e034f24f7940c6a4556ba5909036df"
  },
  "language_info": {
   "codemirror_mode": {
    "name": "ipython",
    "version": 3
   },
   "file_extension": ".py",
   "mimetype": "text/x-python",
   "name": "python",
   "nbconvert_exporter": "python",
   "pygments_lexer": "ipython3",
   "version": "3.7.6"
  }
 },
 "nbformat": 4,
 "nbformat_minor": 2
}
